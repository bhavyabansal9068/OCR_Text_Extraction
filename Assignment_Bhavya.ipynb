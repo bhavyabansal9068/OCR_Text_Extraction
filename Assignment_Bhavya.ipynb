{
  "nbformat": 4,
  "nbformat_minor": 0,
  "metadata": {
    "colab": {
      "name": "Easy_OCR.ipynb",
      "provenance": []
    },
    "kernelspec": {
      "name": "python3",
      "display_name": "Python 3"
    },
    "accelerator": "GPU"
  },
  "cells": [
    {
      "cell_type": "markdown",
      "source": [
        "<h1> Assignment"
      ],
      "metadata": {
        "id": "y8ILLD0hZe5L"
      }
    },
    {
      "cell_type": "code",
      "metadata": {
        "id": "gGnaQzjyhxhu",
        "colab": {
          "base_uri": "https://localhost:8080/"
        },
        "outputId": "742f3442-59dd-47c9-c6d6-ef61e1345618"
      },
      "source": [
        "!pip install easyocr"
      ],
      "execution_count": 1,
      "outputs": [
        {
          "output_type": "stream",
          "name": "stdout",
          "text": [
            "Collecting easyocr\n",
            "  Downloading easyocr-1.7.0-py3-none-any.whl (2.9 MB)\n",
            "\u001b[2K     \u001b[90m━━━━━━━━━━━━━━━━━━━━━━━━━━━━━━━━━━━━━━━━\u001b[0m \u001b[32m2.9/2.9 MB\u001b[0m \u001b[31m18.8 MB/s\u001b[0m eta \u001b[36m0:00:00\u001b[0m\n",
            "\u001b[?25hRequirement already satisfied: torch in /usr/local/lib/python3.10/dist-packages (from easyocr) (2.0.1+cu118)\n",
            "Requirement already satisfied: torchvision>=0.5 in /usr/local/lib/python3.10/dist-packages (from easyocr) (0.15.2+cu118)\n",
            "Requirement already satisfied: opencv-python-headless in /usr/local/lib/python3.10/dist-packages (from easyocr) (4.8.0.74)\n",
            "Requirement already satisfied: scipy in /usr/local/lib/python3.10/dist-packages (from easyocr) (1.10.1)\n",
            "Requirement already satisfied: numpy in /usr/local/lib/python3.10/dist-packages (from easyocr) (1.22.4)\n",
            "Requirement already satisfied: Pillow in /usr/local/lib/python3.10/dist-packages (from easyocr) (9.4.0)\n",
            "Requirement already satisfied: scikit-image in /usr/local/lib/python3.10/dist-packages (from easyocr) (0.19.3)\n",
            "Collecting python-bidi (from easyocr)\n",
            "  Downloading python_bidi-0.4.2-py2.py3-none-any.whl (30 kB)\n",
            "Requirement already satisfied: PyYAML in /usr/local/lib/python3.10/dist-packages (from easyocr) (6.0.1)\n",
            "Requirement already satisfied: Shapely in /usr/local/lib/python3.10/dist-packages (from easyocr) (2.0.1)\n",
            "Collecting pyclipper (from easyocr)\n",
            "  Downloading pyclipper-1.3.0.post4-cp310-cp310-manylinux_2_12_x86_64.manylinux2010_x86_64.whl (813 kB)\n",
            "\u001b[2K     \u001b[90m━━━━━━━━━━━━━━━━━━━━━━━━━━━━━━━━━━━━━━\u001b[0m \u001b[32m813.9/813.9 kB\u001b[0m \u001b[31m65.8 MB/s\u001b[0m eta \u001b[36m0:00:00\u001b[0m\n",
            "\u001b[?25hCollecting ninja (from easyocr)\n",
            "  Downloading ninja-1.11.1-py2.py3-none-manylinux_2_12_x86_64.manylinux2010_x86_64.whl (145 kB)\n",
            "\u001b[2K     \u001b[90m━━━━━━━━━━━━━━━━━━━━━━━━━━━━━━━━━━━━━━\u001b[0m \u001b[32m146.0/146.0 kB\u001b[0m \u001b[31m17.2 MB/s\u001b[0m eta \u001b[36m0:00:00\u001b[0m\n",
            "\u001b[?25hRequirement already satisfied: requests in /usr/local/lib/python3.10/dist-packages (from torchvision>=0.5->easyocr) (2.27.1)\n",
            "Requirement already satisfied: filelock in /usr/local/lib/python3.10/dist-packages (from torch->easyocr) (3.12.2)\n",
            "Requirement already satisfied: typing-extensions in /usr/local/lib/python3.10/dist-packages (from torch->easyocr) (4.7.1)\n",
            "Requirement already satisfied: sympy in /usr/local/lib/python3.10/dist-packages (from torch->easyocr) (1.11.1)\n",
            "Requirement already satisfied: networkx in /usr/local/lib/python3.10/dist-packages (from torch->easyocr) (3.1)\n",
            "Requirement already satisfied: jinja2 in /usr/local/lib/python3.10/dist-packages (from torch->easyocr) (3.1.2)\n",
            "Requirement already satisfied: triton==2.0.0 in /usr/local/lib/python3.10/dist-packages (from torch->easyocr) (2.0.0)\n",
            "Requirement already satisfied: cmake in /usr/local/lib/python3.10/dist-packages (from triton==2.0.0->torch->easyocr) (3.25.2)\n",
            "Requirement already satisfied: lit in /usr/local/lib/python3.10/dist-packages (from triton==2.0.0->torch->easyocr) (16.0.6)\n",
            "Requirement already satisfied: six in /usr/local/lib/python3.10/dist-packages (from python-bidi->easyocr) (1.16.0)\n",
            "Requirement already satisfied: imageio>=2.4.1 in /usr/local/lib/python3.10/dist-packages (from scikit-image->easyocr) (2.25.1)\n",
            "Requirement already satisfied: tifffile>=2019.7.26 in /usr/local/lib/python3.10/dist-packages (from scikit-image->easyocr) (2023.7.18)\n",
            "Requirement already satisfied: PyWavelets>=1.1.1 in /usr/local/lib/python3.10/dist-packages (from scikit-image->easyocr) (1.4.1)\n",
            "Requirement already satisfied: packaging>=20.0 in /usr/local/lib/python3.10/dist-packages (from scikit-image->easyocr) (23.1)\n",
            "Requirement already satisfied: MarkupSafe>=2.0 in /usr/local/lib/python3.10/dist-packages (from jinja2->torch->easyocr) (2.1.3)\n",
            "Requirement already satisfied: urllib3<1.27,>=1.21.1 in /usr/local/lib/python3.10/dist-packages (from requests->torchvision>=0.5->easyocr) (1.26.16)\n",
            "Requirement already satisfied: certifi>=2017.4.17 in /usr/local/lib/python3.10/dist-packages (from requests->torchvision>=0.5->easyocr) (2023.7.22)\n",
            "Requirement already satisfied: charset-normalizer~=2.0.0 in /usr/local/lib/python3.10/dist-packages (from requests->torchvision>=0.5->easyocr) (2.0.12)\n",
            "Requirement already satisfied: idna<4,>=2.5 in /usr/local/lib/python3.10/dist-packages (from requests->torchvision>=0.5->easyocr) (3.4)\n",
            "Requirement already satisfied: mpmath>=0.19 in /usr/local/lib/python3.10/dist-packages (from sympy->torch->easyocr) (1.3.0)\n",
            "Installing collected packages: pyclipper, ninja, python-bidi, easyocr\n",
            "Successfully installed easyocr-1.7.0 ninja-1.11.1 pyclipper-1.3.0.post4 python-bidi-0.4.2\n"
          ]
        }
      ]
    },
    {
      "cell_type": "code",
      "metadata": {
        "id": "WOxu3m1aq8gC"
      },
      "source": [
        "import matplotlib.pyplot as plt\n",
        "import cv2\n",
        "import easyocr\n",
        "from pylab import rcParams\n",
        "from IPython.display import Image as Img\n",
        "from PIL import Image, ImageChops, ImageEnhance\n",
        "rcParams['figure.figsize'] = 8, 16"
      ],
      "execution_count": 54,
      "outputs": []
    },
    {
      "cell_type": "markdown",
      "source": [
        "Making use of PIL Module to compare the difference between two images and saving it locally."
      ],
      "metadata": {
        "id": "14p0LEPNZpye"
      }
    },
    {
      "cell_type": "code",
      "source": [
        "def compare_images(blank_img_path, filled_img_path):\n",
        "    blank_img = Image.open(blank_img_path)\n",
        "    filled_img = Image.open(filled_img_path)\n",
        "\n",
        "    diff = ImageChops.difference(blank_img,filled_img)\n",
        "    diff.save(\"difference.jpg\")\n",
        "\n",
        "\n",
        "\n",
        "blank_img_path = input(\"Enter First Image Path with Extension : \")\n",
        "filled_img_path = input(\"Enter Second Image Path with Extension : \")\n",
        "\n",
        "filled_answers = compare_images(blank_img_path, filled_img_path)"
      ],
      "metadata": {
        "colab": {
          "base_uri": "https://localhost:8080/"
        },
        "id": "fZaOvxU_T_ms",
        "outputId": "1a8aec15-4ba1-4321-f424-3f0ad300f7f1"
      },
      "execution_count": 69,
      "outputs": [
        {
          "name": "stdout",
          "output_type": "stream",
          "text": [
            "Enter First Image Path with Extension : ques.jpg\n",
            "Enter Second Image Path with Extension : ans.jpeg\n"
          ]
        }
      ]
    },
    {
      "cell_type": "markdown",
      "source": [
        "Specifying the Language whose text we wants to extract from image."
      ],
      "metadata": {
        "id": "Ms6AyjNtZ2RJ"
      }
    },
    {
      "cell_type": "code",
      "metadata": {
        "id": "KFceePJoh8tW"
      },
      "source": [
        "reader = easyocr.Reader(['en'])"
      ],
      "execution_count": 47,
      "outputs": []
    },
    {
      "cell_type": "markdown",
      "source": [
        "Simply Making use of EasyOCR to fetch the text from the image."
      ],
      "metadata": {
        "id": "oEOUz0uTaRGE"
      }
    },
    {
      "cell_type": "code",
      "source": [
        "Img(\"difference.jpg\")"
      ],
      "metadata": {
        "colab": {
          "base_uri": "https://localhost:8080/",
          "height": 809
        },
        "id": "YzCDV24Sc8sR",
        "outputId": "091dbc25-11b1-462a-c6fb-15b2f96ec79b"
      },
      "execution_count": 60,
      "outputs": [
        {
          "output_type": "execute_result",
          "data": {
            "image/jpeg": "[encoded data removed]",
            "text/plain": [
              "<IPython.core.display.Image object>"
            ]
          },
          "metadata": {},
          "execution_count": 60
        }
      ]
    },
    {
      "cell_type": "markdown",
      "source": [
        "As Above Image is of low quality so we can improve it."
      ],
      "metadata": {
        "id": "w4rdmyIVdKTT"
      }
    },
    {
      "cell_type": "code",
      "source": [
        "img = Image.open(\"difference.jpg\")\n",
        "enhancer = ImageEnhance.Brightness(img)\n",
        "img = enhancer.enhance(1.5)\n",
        "img.save(\"difference_enhanced.jpg\")"
      ],
      "metadata": {
        "id": "Fl2URCuhdJSp"
      },
      "execution_count": 61,
      "outputs": []
    },
    {
      "cell_type": "code",
      "source": [
        "Img(\"difference_enhanced.jpg\")"
      ],
      "metadata": {
        "colab": {
          "base_uri": "https://localhost:8080/",
          "height": 809
        },
        "id": "d0cMT7FRVcnV",
        "outputId": "2668db26-fe8a-45b1-9726-a6a6a57ce8a5"
      },
      "execution_count": 62,
      "outputs": [
        {
          "output_type": "execute_result",
          "data": {
            "image/jpeg": "[encoded data removed]",
            "text/plain": [
              "<IPython.core.display.Image object>"
            ]
          },
          "metadata": {},
          "execution_count": 62
        }
      ]
    },
    {
      "cell_type": "code",
      "metadata": {
        "id": "OTAtJVfWiAmY"
      },
      "source": [
        "output = reader.readtext('difference_enhanced.jpg')"
      ],
      "execution_count": 64,
      "outputs": []
    },
    {
      "cell_type": "code",
      "metadata": {
        "id": "a3ExixuoohLq",
        "colab": {
          "base_uri": "https://localhost:8080/"
        },
        "outputId": "a0326509-9d85-4d40-8835-cdd85bade56e"
      },
      "source": [
        "output"
      ],
      "execution_count": 65,
      "outputs": [
        {
          "output_type": "execute_result",
          "data": {
            "text/plain": [
              "[([[353, 103], [397, 103], [397, 121], [353, 121]],\n",
              "  'ans1',\n",
              "  0.9902854561805725),\n",
              " ([[470, 140], [518, 140], [518, 164], [470, 164]],\n",
              "  'ans2',\n",
              "  0.6483861271862621),\n",
              " ([[113, 207], [159, 207], [159, 227], [113, 227]],\n",
              "  'ans3',\n",
              "  0.9969769716262817),\n",
              " ([[283, 229], [329, 229], [329, 249], [283, 249]], 'ans4', 0.984574019908905),\n",
              " ([[111, 291], [155, 291], [155, 311], [111, 311]],\n",
              "  'ans5',\n",
              "  0.7022228837013245),\n",
              " ([[315, 311], [361, 311], [361, 331], [315, 331]],\n",
              "  'ans6',\n",
              "  0.9850000143051147),\n",
              " ([[283, 335], [327, 335], [327, 355], [283, 355]],\n",
              "  'ans7',\n",
              "  0.9865601062774658),\n",
              " ([[205, 379], [249, 379], [249, 399], [205, 399]],\n",
              "  'ans8',\n",
              "  0.9996340870857239),\n",
              " ([[140, 414], [188, 414], [188, 438], [140, 438]],\n",
              "  'ans9',\n",
              "  0.9129849672317505),\n",
              " ([[415, 456], [474, 456], [474, 482], [415, 482]],\n",
              "  'ans10',\n",
              "  0.9998811666851425),\n",
              " ([[109, 498], [166, 498], [166, 524], [109, 524]],\n",
              "  'ans11',\n",
              "  0.9997758733241703),\n",
              " ([[314, 544], [372, 544], [372, 568], [314, 568]],\n",
              "  'ans12',\n",
              "  0.8268021908163203),\n",
              " ([[107, 584], [166, 584], [166, 610], [107, 610]],\n",
              "  'ans13',\n",
              "  0.9991366212253481),\n",
              " ([[434, 626], [492, 626], [492, 650], [434, 650]],\n",
              "  'ans14',\n",
              "  0.7694620004423032),\n",
              " ([[367, 670], [426, 670], [426, 696], [367, 696]],\n",
              "  'ans15',\n",
              "  0.9994151470050695)]"
            ]
          },
          "metadata": {},
          "execution_count": 65
        }
      ]
    },
    {
      "cell_type": "code",
      "source": [
        "extracted_text = [item[1] for item in output]\n",
        "\n",
        "# Print the extracted text\n",
        "print(\", \".join(str(element) for element in extracted_text))"
      ],
      "metadata": {
        "colab": {
          "base_uri": "https://localhost:8080/"
        },
        "id": "Jj5CNNb0WirF",
        "outputId": "7216a5ec-26cf-40eb-c980-e90f98fd2647"
      },
      "execution_count": 66,
      "outputs": [
        {
          "output_type": "stream",
          "name": "stdout",
          "text": [
            "ans1, ans2, ans3, ans4, ans5, ans6, ans7, ans8, ans9, ans10, ans11, ans12, ans13, ans14, ans15\n"
          ]
        }
      ]
    },
    {
      "cell_type": "markdown",
      "source": [
        "It's an simple code to compare the two images and extract the uncommon text by using OCR Technique."
      ],
      "metadata": {
        "id": "4O7cgeL_diyi"
      }
    }
  ]
}